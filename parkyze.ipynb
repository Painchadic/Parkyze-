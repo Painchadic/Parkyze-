{
 "cells": [
  {
   "cell_type": "code",
   "execution_count": null,
   "metadata": {},
   "outputs": [],
   "source": [
    "import matplotlib.pyplot as py\n",
    "import math as m\n",
    "import parkyzeClass as pc\n",
    "import numpy as np\n",
    "import shapely.geometry\n",
    "import random\n",
    "import signal"
   ]
  },
  {
   "cell_type": "code",
   "execution_count": null,
   "metadata": {},
   "outputs": [],
   "source": [
    "for i in parking:\n",
    "    resX = []\n",
    "    resY = []\n",
    "\n",
    "    couleur, points = i.color, i.forme\n",
    "    if (type(i) != pc.Rampe) :\n",
    "        if (pc.gene(i, parking, 0.01)[0]):\n",
    "            continue\n",
    "    \n",
    "    resX, resY = points.exterior.xy\n",
    "    if type(i) == pc.Route :\n",
    "        py.fill(resX,resY, color = 'k')\n",
    "    py.plot(resX,resY, color = couleur)\n",
    "\n",
    "resX, resY = espace.forme.exterior.xy\n",
    "py.plot(resX,resY, color = espace.color)\n",
    "\n",
    "a,b,c,d = pc.camera(espace)\n",
    "py.xlim(a,b)\n",
    "py.ylim(c,d)\n",
    "py.show()\n",
    "\n",
    "print(pc.nbPlace(parking))\n",
    "print(pc.ratio(parking, espace))\n",
    "print(pc.distSortie(parking[0]))\n",
    "print(parking[0].fils)"
   ]
  },
  {
   "cell_type": "code",
   "execution_count": null,
   "metadata": {},
   "outputs": [],
   "source": [
    "def handler(signum, frame):\n",
    "   print(\"Forever is over!\")\n",
    "   raise Exception()\n",
    "\n",
    "nbLoop = [0 for i in range(200)]\n",
    "n = 300\n",
    "nVrai = n\n",
    "\n",
    "\n",
    "signal.signal(signal.SIGALRM, handler)\n",
    "\n",
    "for i in range(n):\n",
    "    signal.alarm(1)\n",
    "    try :\n",
    "        print(str(i))\n",
    "        parking = [pc.Rampe(20, 5, [-25,0], 0, 2)]\n",
    "        parking = autoRoute(5, parking, 10)\n",
    "        parking = pc.remplissagePlace(parking, 5, 2.5, espace)\n",
    "        place = pc.nbPlace(parking)\n",
    "        nbLoop[place] += 1\n",
    "    except Exception:\n",
    "        nVrai -= 1\n",
    "        pass\n",
    "signal.alarm(10000)\n",
    "\n",
    "py.plot(nbLoop)\n",
    "py.show()\n",
    "moy = 0\n",
    "maxi = 0\n",
    "for i in range(len(nbLoop)):\n",
    "    if nbLoop[i] == 0 :\n",
    "        continue\n",
    "    moy += nbLoop[i]*i/nVrai\n",
    "    maxi = i\n",
    "\n",
    "print(\"\\nMoyenne : \" + str(moy) + \"\\nMaximum : \" + str(maxi))"
   ]
  },
  {
   "cell_type": "code",
   "execution_count": null,
   "metadata": {},
   "outputs": [],
   "source": [
    "listAngle = [0, m.pi/2, -m.pi/2]\n",
    "\n",
    "def autoRoute(epaisseur, parking, nbRoutes):\n",
    "    listAvailable = [(0, i) for i in range(3)]\n",
    "\n",
    "    return autoRouteAux(epaisseur, parking, listAvailable, nbRoutes)\n",
    "\n",
    "def autoRouteAux(epaisseur, parking, listAvailable, nbRoutes):\n",
    "    #listAvailable de la forme [(0, 0), (0, 1)]\n",
    "    if nbRoutes < 1:\n",
    "        return parking\n",
    "    longueur = len(listAvailable)\n",
    "    index = random.randint(0, longueur - 1)\n",
    "    route, angle = listAvailable[index]\n",
    "    angle = listAngle[angle]\n",
    "    a = pc.Route(parking[route], random.random() * 0 + 15, epaisseur, angle, espace)\n",
    "    if a.valide :\n",
    "        parking += [a]\n",
    "        nbRoutes -= 1\n",
    "        listAvailable.pop(index)\n",
    "        listAvailable += [(len(parking) - 1, i) for i in range(3)]\n",
    "        return autoRouteAux(epaisseur, parking, listAvailable, nbRoutes)\n",
    "    return autoRouteAux(epaisseur, parking, listAvailable, nbRoutes)\n",
    "\n"
   ]
  }
 ],
 "metadata": {
  "kernelspec": {
   "display_name": "Python 3",
   "language": "python",
   "name": "python3"
  },
  "language_info": {
   "name": "python",
   "version": "3.10.8 (tags/v3.10.8:aaaf517, Oct 11 2022, 16:50:30) [MSC v.1933 64 bit (AMD64)]"
  },
  "orig_nbformat": 4,
  "vscode": {
   "interpreter": {
    "hash": "369f2c481f4da34e4445cda3fffd2e751bd1c4d706f27375911949ba6bb62e1c"
   }
  }
 },
 "nbformat": 4,
 "nbformat_minor": 2
}
